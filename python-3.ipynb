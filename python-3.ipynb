{
 "metadata": {
  "name": "",
  "signature": "sha256:629a861269d7de85be4ba0f80b7c5edff15ddef7e8302f9fa48686399d1d3b15"
 },
 "nbformat": 3,
 "nbformat_minor": 0,
 "worksheets": [
  {
   "cells": [
    {
     "cell_type": "heading",
     "level": 2,
     "metadata": {},
     "source": [
      "Workshop 1: Getting started with Python and SymPy"
     ]
    },
    {
     "cell_type": "heading",
     "level": 3,
     "metadata": {},
     "source": [
      "1. Introduction"
     ]
    },
    {
     "cell_type": "markdown",
     "metadata": {},
     "source": [
      "Python is a high-level, general purpose, computer programming language, and like any other programming language, it is capable of carrying out a variety of complex tasks that would otherwise take us a long time to complete by hand. \n",
      "\n",
      "One advantage of Python is that it uses a very natural language, making it accessible to those with little or no programming experience. It is also completely free, and has a whole library of packages, each offering additional features.\n",
      "\n",
      "For these workshops, we will be focusing on using a package called SymPy, a Computer Algebra System (CAS), which allows us to carry out mathematical calculations in a nice way.\n",
      "\n",
      "(If you are interested in learning more about Python and its application in mathematics, you will find out more on MATH2920 Computational Mathematics.)",
      "\n",
      "Please be aware that some commands run quite slowly. You may also be prompted to install a missing package, in which case please do so."
     ]
    },
    {
     "cell_type": "heading",
     "level": 3,
     "metadata": {},
     "source": [
      "2. Calculations"
     ]
    },
    {
     "cell_type": "markdown",
     "metadata": {},
     "source": [
      "You can use Python as a highly over-powered calculator. To calculate $3+4$ first click in the code box below, type $3+4$ and then click run (or press SHIFT $+$ ENTER). Wherever you see a box that says ``In [ ]``, you are expected to run (or first to type, and then to run) some code. At that point, the brackets will be filled with a star (while the systems thinks) and then  a number (once it has finished)."
     ]
    },
    {
     "cell_type": "code",
     "collapsed": false,
     "input": [],
     "language": "python",
     "metadata": {},
     "outputs": []
    },
    {
     "cell_type": "markdown",
     "metadata": {},
     "source": [
      "You use the usual symbols of the basic arithmetical operations:\n",
      "<ul>\n",
      "    <li>+ for addition</li>\n",
      "    <li>-  for subtraction</li>\n",
      "    <li>\\* for multiplication</li>\n",
      "    <li>/  for division</li>\n",
      "</ul>"
     ]
    },
    {
     "cell_type": "code",
     "collapsed": false,
     "input": [
      "7 - 2"
     ],
     "language": "python",
     "metadata": {},
     "outputs": []
    },
    {
     "cell_type": "code",
     "collapsed": false,
     "input": [
      "8 * 6"
     ],
     "language": "python",
     "metadata": {},
     "outputs": []
    },
    {
     "cell_type": "code",
     "collapsed": false,
     "input": [
      "8 / 2"
     ],
     "language": "python",
     "metadata": {},
     "outputs": []
    },
    {
     "cell_type": "markdown",
     "metadata": {},
     "source": [
      "You can edit previous code at any time by clicking on it and simply running it again once a change has been made. Have a go at changing the above calculations, and get comfortable with running the code blocks.\n",
      "\n",
      "**WARNING:** Take care when re-running previous code blocks. The running order of each code block is important, especially when calculations are more complicated and rely on previous blocks. A good practice to get into when using IPython notebooks is to *Run All Below* where a change has been made."
     ]
    },
    {
     "cell_type": "markdown",
     "metadata": {},
     "source": [
      "Double asterisks \\*\\* indicate a power (e.g. for $4^2$ type $\\verb|4**2|$ ). There is also a suite of functions and constants already defined in the Python math module, such as $\\verb|sin|$, $\\verb|cos|$, $\\verb|exp|$, $\\verb|log|$, $\\verb|sqrt(.)|$ and $\\verb|pi|$. To load these, you first have to call ``from math import *``. Use the code blocks below to try some of these functions and constants."
     ]
    },
    {
     "cell_type": "code",
     "collapsed": false,
     "input": [
      "from math import *"
     ],
     "language": "python",
     "metadata": {},
     "outputs": []
    },
    {
     "cell_type": "code",
     "collapsed": false,
     "input": [
      "exp(1)"
     ],
     "language": "python",
     "metadata": {},
     "outputs": []
    },
    {
     "cell_type": "heading",
     "level": 3,
     "metadata": {},
     "source": [
      "3. Defining functions"
     ]
    },
    {
     "cell_type": "markdown",
     "metadata": {},
     "source": [
      "There are a couple of ways to define functions in Python, but in these workshops, we will first just focus on using the SymPy package to define any new functions. Before we can do this though, we must first import the SymPy package. Run the following code block: be warned that it may take a little time to complete."
     ]
    },
    {
     "cell_type": "code",
     "collapsed": false,
     "input": [
      "from sympy import *\n",
      "init_printing()"
     ],
     "language": "python",
     "metadata": {},
     "outputs": []
    },
    {
     "cell_type": "markdown",
     "metadata": {},
     "source": [
      "(This just tells Python to import everything from SymPy and to set up printing for SymPy.)\n",
      "\n",
      "Now that SymPy has been imported, you can define a function very simply by running a command like $\\verb|f = x|$\\*\\*$\\verb|2|$. However, if you do this then you will run into an error. This is because when working with SymPy, it is necessary to declare any variables that you intend to use that have not been assigned a value.\n",
      "\n",
      "To declare a variable use:"
     ]
    },
    {
     "cell_type": "code",
     "collapsed": false,
     "input": [
      "x = Symbol('x')"
     ],
     "language": "python",
     "metadata": {},
     "outputs": []
    },
    {
     "cell_type": "markdown",
     "metadata": {},
     "source": [
      "Or to declare multiple variables at the same time, use:"
     ]
    },
    {
     "cell_type": "code",
     "collapsed": false,
     "input": [
      "a,b,c = symbols('a b c')"
     ],
     "language": "python",
     "metadata": {},
     "outputs": []
    },
    {
     "cell_type": "markdown",
     "metadata": {},
     "source": [
      "**Note:** When declaring multiple variables, be sure to separate each variable name with a space when inside the parantheses.\n",
      "\n",
      "**Note:** Python is case sensitive, so take care when typing $\\verb|Symbol(.)|$ and $\\verb|symbols(.)|$."
     ]
    },
    {
     "cell_type": "markdown",
     "metadata": {},
     "source": [
      "Once you have declared a variable, you can use it when defining a function. After defining a function, you can get SymPy to print it for you by typing its name. Here are some examples."
     ]
    },
    {
     "cell_type": "code",
     "collapsed": false,
     "input": [
      "f = x**2\n",
      "f"
     ],
     "language": "python",
     "metadata": {},
     "outputs": []
    },
    {
     "cell_type": "code",
     "collapsed": false,
     "input": [
      "g = 3*a + 7*c**5\n",
      "g"
     ],
     "language": "python",
     "metadata": {},
     "outputs": []
    },
    {
     "cell_type": "code",
     "collapsed": false,
     "input": [
      "h = a*x**2 + b*x + c\n",
      "h"
     ],
     "language": "python",
     "metadata": {},
     "outputs": []
    },
    {
     "cell_type": "heading",
     "level": 4,
     "metadata": {},
     "source": [
      "3.1. Finding the value of functions"
     ]
    },
    {
     "cell_type": "markdown",
     "metadata": {},
     "source": [
      "If you want to find the value of a function you have defined, say $k$, typing something like $\\verb|k(2)|$ will not work. Instead, use $\\verb|k.subs(a,b)|$, where the variable $a$ is substituted for $b$ in the function $k$. For example:"
     ]
    },
    {
     "cell_type": "code",
     "collapsed": false,
     "input": [
      "f.subs(x,2)"
     ],
     "language": "python",
     "metadata": {},
     "outputs": []
    },
    {
     "cell_type": "markdown",
     "metadata": {},
     "source": [
      "SymPy was designed to present mathematical expressions in a symbolic way and to avoid numerical evaluation whenever possible. If you want SymPy to return a numerical value for an expression, you should use $\\verb|.evalf()|$:"
     ]
    },
    {
     "cell_type": "code",
     "collapsed": false,
     "input": [
      "sin(1)"
     ],
     "language": "python",
     "metadata": {},
     "outputs": []
    },
    {
     "cell_type": "code",
     "collapsed": false,
     "input": [
      "sin(1).evalf()"
     ],
     "language": "python",
     "metadata": {},
     "outputs": []
    },
    {
     "cell_type": "code",
     "collapsed": false,
     "input": [
      "(f.subs(x,2)).evalf()"
     ],
     "language": "python",
     "metadata": {},
     "outputs": []
    },
    {
     "cell_type": "heading",
     "level": 3,
     "metadata": {},
     "source": [
      "4. Differential and integral calculus"
     ]
    },
    {
     "cell_type": "markdown",
     "metadata": {},
     "source": [
      "You can differentiate using the $\\verb|diff(f,x)|$ command, where $f$ is the function to be differentiated, and $x$ is what $f$ should be differentiated with respect to. For the second derivative, use $\\verb|diff(f,x,x)|$ or $\\verb|diff(f,x,2)|$. For example:"
     ]
    },
    {
     "cell_type": "code",
     "collapsed": false,
     "input": [
      "diff(f,x)"
     ],
     "language": "python",
     "metadata": {},
     "outputs": []
    },
    {
     "cell_type": "code",
     "collapsed": false,
     "input": [
      "diff(f,x,x)"
     ],
     "language": "python",
     "metadata": {},
     "outputs": []
    },
    {
     "cell_type": "code",
     "collapsed": false,
     "input": [
      "diff(f,x,2)"
     ],
     "language": "python",
     "metadata": {},
     "outputs": []
    },
    {
     "cell_type": "markdown",
     "metadata": {},
     "source": [
      "Use SymPy to find $\\frac{d^3k}{dx^3}$ where $k = x^2\\sin x$:"
     ]
    },
    {
     "cell_type": "code",
     "collapsed": false,
     "input": [],
     "language": "python",
     "metadata": {},
     "outputs": []
    },
    {
     "cell_type": "markdown",
     "metadata": {},
     "source": [
      "Integration is done by the $\\verb|integrate(.)|$ command. To get an indefinite integral, simply type $\\verb|integrate(f,x)|$. Be aware that no constant of integration appears."
     ]
    },
    {
     "cell_type": "code",
     "collapsed": false,
     "input": [
      "integrate(f,x)"
     ],
     "language": "python",
     "metadata": {},
     "outputs": []
    },
    {
     "cell_type": "markdown",
     "metadata": {},
     "source": [
      "If you want a definite integral, then instead of simply $x$ after the comma, type $\\verb|integrate(f,(x,a,b))|$, where $a$ and $b$ are the numbers which form the endpoints of the integration range."
     ]
    },
    {
     "cell_type": "code",
     "collapsed": false,
     "input": [
      "integrate(f,(x,1,10))"
     ],
     "language": "python",
     "metadata": {},
     "outputs": []
    },
    {
     "cell_type": "markdown",
     "metadata": {},
     "source": [
      "Using $k$ as defined above, can you find $\\int_{0}^{\\pi} k(x)\\, dx$?"
     ]
    },
    {
     "cell_type": "code",
     "collapsed": false,
     "input": [],
     "language": "python",
     "metadata": {},
     "outputs": []
    },
    {
     "cell_type": "heading",
     "level": 3,
     "metadata": {},
     "source": [
      "5. Graphs"
     ]
    },
    {
     "cell_type": "markdown",
     "metadata": {},
     "source": [
      "Today we shall plot some simple line graphs; in later sessions, you will meet more interesting sorts of graph, like surfaces in 3d, vectors on a region of $\\mathbb{R}^2$ and others.\n",
      "\n",
      "Before we can plot graphs inline with the IPython notebook, we need to run the following command:"
     ]
    },
    {
     "cell_type": "code",
     "collapsed": false,
     "input": [
      "%matplotlib inline"
     ],
     "language": "python",
     "metadata": {},
     "outputs": []
    },
    {
     "cell_type": "markdown",
     "metadata": {},
     "source": [
      "Run the command $\\verb|plot(sin(x),(x,-pi,pi))|$, and you should see a sine wave on a pair of axes."
     ]
    },
    {
     "cell_type": "code",
     "collapsed": false,
     "input": [
      "plot(sin(x),(x,-pi,pi))"
     ],
     "language": "python",
     "metadata": {},
     "outputs": []
    },
    {
     "cell_type": "heading",
     "level": 4,
     "metadata": {},
     "source": [
      "5.1. Plotting multiple functions"
     ]
    },
    {
     "cell_type": "markdown",
     "metadata": {},
     "source": [
      "To plot more than one function in the same plot, list each function one after the other and separate them with a comma. \n",
      "\n",
      "For example, we could run $\\verb|plot(sin(x),cos(x),(x,-pi,pi))|$ to get a graph of both $\\sin$ and $\\cos$:"
     ]
    },
    {
     "cell_type": "code",
     "collapsed": false,
     "input": [
      "plot(sin(x),cos(x),(x,-pi,pi))"
     ],
     "language": "python",
     "metadata": {},
     "outputs": []
    },
    {
     "cell_type": "markdown",
     "metadata": {},
     "source": [
      "See if you can plot three functions in one graph:"
     ]
    },
    {
     "cell_type": "code",
     "collapsed": false,
     "input": [],
     "language": "python",
     "metadata": {},
     "outputs": []
    },
    {
     "cell_type": "heading",
     "level": 3,
     "metadata": {},
     "source": [
      "6. Text boxes"
     ]
    },
    {
     "cell_type": "markdown",
     "metadata": {},
     "source": [
      "You can write text in these notebooks: helpful for annotating your assignments and writing answers that are not simply mathematical notation. To do so, try creating a cell (\"Insert > Insert Cell Below\") and then look to the dropdown menu at the top that says \"Code\". Change it to \"Markdown\", type in some text and hit ``Shift+Enter`` or the Run button."
     ]
    },
    {
     "cell_type": "markdown",
     "metadata": {},
     "source": [
      "You can read more about the markdown syntax and how to use it at [this link](http://nestacms.com/docs/creating-content/markdown-cheat-sheet)."
     ]
    }
   ],
   "metadata": {}
  }
 ]
}
